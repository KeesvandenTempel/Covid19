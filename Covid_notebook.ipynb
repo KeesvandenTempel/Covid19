{
 "cells": [
  {
   "cell_type": "code",
   "execution_count": 124,
   "metadata": {},
   "outputs": [],
   "source": [
    "import numpy as np\n",
    "import pandas as pd\n",
    "import matplotlib.pyplot as plt\n",
    "import tensorflow as tf\n",
    "from tensorflow import keras\n",
    "import sklearn\n",
    "from sklearn.preprocessing import OrdinalEncoder\n",
    "\n",
    "%matplotlib inline"
   ]
  },
  {
   "cell_type": "code",
   "execution_count": 125,
   "metadata": {},
   "outputs": [
    {
     "data": {
      "text/html": [
       "<div>\n",
       "<style scoped>\n",
       "    .dataframe tbody tr th:only-of-type {\n",
       "        vertical-align: middle;\n",
       "    }\n",
       "\n",
       "    .dataframe tbody tr th {\n",
       "        vertical-align: top;\n",
       "    }\n",
       "\n",
       "    .dataframe thead th {\n",
       "        text-align: right;\n",
       "    }\n",
       "</style>\n",
       "<table border=\"1\" class=\"dataframe\">\n",
       "  <thead>\n",
       "    <tr style=\"text-align: right;\">\n",
       "      <th></th>\n",
       "      <th>Date_file</th>\n",
       "      <th>Date_statistics</th>\n",
       "      <th>Date_statistics_type</th>\n",
       "      <th>Agegroup</th>\n",
       "      <th>Sex</th>\n",
       "      <th>Province</th>\n",
       "      <th>Hospital_admission</th>\n",
       "      <th>Deceased</th>\n",
       "      <th>Week_of_death</th>\n",
       "      <th>Municipal_health_service</th>\n",
       "    </tr>\n",
       "  </thead>\n",
       "  <tbody>\n",
       "    <tr>\n",
       "      <th>0</th>\n",
       "      <td>2020-06-17 10:00:00</td>\n",
       "      <td>2020-01-01</td>\n",
       "      <td>DOO</td>\n",
       "      <td>40-49</td>\n",
       "      <td>Female</td>\n",
       "      <td>Noord-Holland</td>\n",
       "      <td>No</td>\n",
       "      <td>No</td>\n",
       "      <td>NaN</td>\n",
       "      <td>GGD Amsterdam</td>\n",
       "    </tr>\n",
       "    <tr>\n",
       "      <th>1</th>\n",
       "      <td>2020-06-17 10:00:00</td>\n",
       "      <td>2020-01-20</td>\n",
       "      <td>DOO</td>\n",
       "      <td>50-59</td>\n",
       "      <td>Female</td>\n",
       "      <td>Gelderland</td>\n",
       "      <td>No</td>\n",
       "      <td>No</td>\n",
       "      <td>NaN</td>\n",
       "      <td>GGD Gelderland-Zuid</td>\n",
       "    </tr>\n",
       "    <tr>\n",
       "      <th>2</th>\n",
       "      <td>2020-06-17 10:00:00</td>\n",
       "      <td>2020-01-29</td>\n",
       "      <td>DOO</td>\n",
       "      <td>80-89</td>\n",
       "      <td>Male</td>\n",
       "      <td>Overijssel</td>\n",
       "      <td>No</td>\n",
       "      <td>No</td>\n",
       "      <td>NaN</td>\n",
       "      <td>GGD Regio Twente</td>\n",
       "    </tr>\n",
       "    <tr>\n",
       "      <th>3</th>\n",
       "      <td>2020-06-17 10:00:00</td>\n",
       "      <td>2020-01-31</td>\n",
       "      <td>DOO</td>\n",
       "      <td>90+</td>\n",
       "      <td>Female</td>\n",
       "      <td>Noord-Holland</td>\n",
       "      <td>No</td>\n",
       "      <td>No</td>\n",
       "      <td>NaN</td>\n",
       "      <td>GGD Amsterdam</td>\n",
       "    </tr>\n",
       "    <tr>\n",
       "      <th>4</th>\n",
       "      <td>2020-06-17 10:00:00</td>\n",
       "      <td>2020-01-31</td>\n",
       "      <td>DOO</td>\n",
       "      <td>80-89</td>\n",
       "      <td>Male</td>\n",
       "      <td>Noord-Brabant</td>\n",
       "      <td>Yes</td>\n",
       "      <td>Yes</td>\n",
       "      <td>202015.0</td>\n",
       "      <td>GGD Brabant Zuid-Oost</td>\n",
       "    </tr>\n",
       "  </tbody>\n",
       "</table>\n",
       "</div>"
      ],
      "text/plain": [
       "             Date_file Date_statistics Date_statistics_type Agegroup     Sex  \\\n",
       "0  2020-06-17 10:00:00      2020-01-01                  DOO    40-49  Female   \n",
       "1  2020-06-17 10:00:00      2020-01-20                  DOO    50-59  Female   \n",
       "2  2020-06-17 10:00:00      2020-01-29                  DOO    80-89    Male   \n",
       "3  2020-06-17 10:00:00      2020-01-31                  DOO      90+  Female   \n",
       "4  2020-06-17 10:00:00      2020-01-31                  DOO    80-89    Male   \n",
       "\n",
       "        Province Hospital_admission Deceased  Week_of_death  \\\n",
       "0  Noord-Holland                 No       No            NaN   \n",
       "1     Gelderland                 No       No            NaN   \n",
       "2     Overijssel                 No       No            NaN   \n",
       "3  Noord-Holland                 No       No            NaN   \n",
       "4  Noord-Brabant                Yes      Yes       202015.0   \n",
       "\n",
       "  Municipal_health_service  \n",
       "0            GGD Amsterdam  \n",
       "1      GGD Gelderland-Zuid  \n",
       "2         GGD Regio Twente  \n",
       "3            GGD Amsterdam  \n",
       "4   GGD Brabant Zuid-Oost   "
      ]
     },
     "execution_count": 125,
     "metadata": {},
     "output_type": "execute_result"
    }
   ],
   "source": [
    "covid=pd.read_csv(\"COVID-19_casus_landelijk.csv\", sep=\";\")\n",
    "gr = covid.groupby(\"Province\")\n",
    "z = gr.count()\n",
    "covid.head()"
   ]
  },
  {
   "cell_type": "code",
   "execution_count": 126,
   "metadata": {},
   "outputs": [
    {
     "name": "stdout",
     "output_type": "stream",
     "text": [
      "<class 'pandas.core.frame.DataFrame'>\n",
      "RangeIndex: 49204 entries, 0 to 49203\n",
      "Data columns (total 10 columns):\n",
      " #   Column                    Non-Null Count  Dtype  \n",
      "---  ------                    --------------  -----  \n",
      " 0   Date_file                 49204 non-null  object \n",
      " 1   Date_statistics           49204 non-null  object \n",
      " 2   Date_statistics_type      49204 non-null  object \n",
      " 3   Agegroup                  49204 non-null  object \n",
      " 4   Sex                       49204 non-null  object \n",
      " 5   Province                  49204 non-null  object \n",
      " 6   Hospital_admission        49204 non-null  object \n",
      " 7   Deceased                  49204 non-null  object \n",
      " 8   Week_of_death             6067 non-null   float64\n",
      " 9   Municipal_health_service  49204 non-null  object \n",
      "dtypes: float64(1), object(9)\n",
      "memory usage: 3.8+ MB\n"
     ]
    }
   ],
   "source": [
    "covid.info()"
   ]
  },
  {
   "cell_type": "code",
   "execution_count": 127,
   "metadata": {},
   "outputs": [
    {
     "data": {
      "text/plain": [
       "Zuid-Holland     10907\n",
       "Noord-Brabant     9637\n",
       "Noord-Holland     7119\n",
       "Gelderland        6476\n",
       "Limburg           4857\n",
       "Utrecht           3929\n",
       "Overijssel        3059\n",
       "Flevoland          969\n",
       "Zeeland            728\n",
       "Friesland          632\n",
       "Drenthe            533\n",
       "Groningen          358\n",
       "Name: Province, dtype: int64"
      ]
     },
     "execution_count": 127,
     "metadata": {},
     "output_type": "execute_result"
    }
   ],
   "source": [
    "covid[\"Province\"].value_counts()"
   ]
  },
  {
   "cell_type": "code",
   "execution_count": 128,
   "metadata": {},
   "outputs": [
    {
     "data": {
      "text/plain": [
       "[<matplotlib.lines.Line2D at 0x244bed95048>]"
      ]
     },
     "execution_count": 128,
     "metadata": {},
     "output_type": "execute_result"
    },
    {
     "data": {
      "image/png": "[encoded data removed]",
      "text/plain": [
       "<Figure size 1296x720 with 1 Axes>"
      ]
     },
     "metadata": {
      "needs_background": "light"
     },
     "output_type": "display_data"
    }
   ],
   "source": [
    "dec = covid[covid['Deceased']==1].groupby(\"Province\").count()\n",
    "dec2 = covid[(covid['Hospital_admission']==0) & (covid['Deceased']==1)].groupby(\"Province\").count()\n",
    "\n",
    "fig=plt.figure()\n",
    "fig.set_size_inches(18, 10)\n",
    "\n",
    "afb = fig.add_axes([0.0,0.0,1,1])\n",
    "afb.plot(z.iloc[:,2])\n",
    "afb.plot(dec.iloc[:,2])\n",
    "afb.plot(dec2.iloc[:,2])"
   ]
  },
  {
   "cell_type": "code",
   "execution_count": 129,
   "metadata": {},
   "outputs": [],
   "source": [
    "def Make_Boolean_numeric(x):\n",
    "    if x==\"Yes\":\n",
    "        return 1\n",
    "    else:\n",
    "        return 0\n",
    "\n",
    "def Make_Sex_numeric(x):\n",
    "    if x==\"Male\":\n",
    "        return 1\n",
    "    else:\n",
    "        return 0\n",
    "\n",
    "covid.drop(columns=['Date_file', 'Date_statistics_type', 'Week_of_death'], inplace=True)\n",
    "covid['Deceased'] = covid['Deceased'].apply(lambda x: Make_Boolean_numeric(x))\n",
    "covid['Hospital_admission'] = covid['Hospital_admission'].apply(lambda x: Make_Boolean_numeric(x))\n",
    "covid['Sex'] = covid['Sex'].apply(lambda x: Make_Sex_numeric(x))"
   ]
  },
  {
   "cell_type": "code",
   "execution_count": 130,
   "metadata": {},
   "outputs": [
    {
     "name": "stdout",
     "output_type": "stream",
     "text": [
      "0 = Drenthe\n",
      "1 = Flevoland\n",
      "2 = Friesland\n",
      "3 = Gelderland\n",
      "4 = Groningen\n",
      "5 = Limburg\n",
      "6 = Noord-Brabant\n",
      "7 = Noord-Holland\n",
      "8 = Overijssel\n",
      "9 = Utrecht\n",
      "10 = Zeeland\n",
      "11 = Zuid-Holland\n",
      "0 = 0-9\n",
      "1 = 10-19\n",
      "2 = 20-29\n",
      "3 = 30-39\n",
      "4 = 40-49\n",
      "5 = 50-59\n",
      "6 = 60-69\n",
      "7 = 70-79\n",
      "8 = 80-89\n",
      "9 = 90+\n",
      "10 = <50\n",
      "11 = Unknown\n",
      "0 = Dienst Gezondheid & Jeugd ZHZ\n",
      "1 = GGD Amsterdam\n",
      "2 = GGD Brabant Zuid-Oost \n",
      "3 = GGD Drenthe\n",
      "4 = GGD Flevoland\n",
      "5 = GGD Fryslân\n",
      "6 = GGD Gelderland-Midden\n",
      "7 = GGD Gelderland-Zuid\n",
      "8 = GGD Gooi en Vechtstreek\n",
      "9 = GGD Groningen\n",
      "10 = GGD Haaglanden\n",
      "11 = GGD Hart voor Brabant\n",
      "12 = GGD Hollands Midden\n",
      "13 = GGD Hollands Noorden\n",
      "14 = GGD IJsselland\n",
      "15 = GGD Kennemerland\n",
      "16 = GGD Limburg Noord\n",
      "17 = GGD Noord en Oost Gelderland\n",
      "18 = GGD Regio Twente\n",
      "19 = GGD Rotterdam Rijnmond\n",
      "20 = GGD West Brabant\n",
      "21 = GGD Zaanstreek-Waterland\n",
      "22 = GGD Zeeland\n",
      "23 = GGD Zuid Limburg\n",
      "24 = GGD regio Utrecht\n"
     ]
    }
   ],
   "source": [
    "province_encoder = OrdinalEncoder()\n",
    "covid[['Province']] = province_encoder.fit_transform(covid[['Province']])\n",
    "\n",
    "age_encoder = OrdinalEncoder()\n",
    "covid[['Agegroup']] = age_encoder.fit_transform(covid[['Agegroup']])\n",
    "\n",
    "ggd_encoder = OrdinalEncoder()\n",
    "covid[['Municipal_health_service']] = ggd_encoder.fit_transform(covid[['Municipal_health_service']])\n",
    "\n",
    "i=0\n",
    "for x in province_encoder.categories_:\n",
    "    for a in x:\n",
    "        print(str(i) + \" = \" + str(a))\n",
    "        i = i + 1\n",
    "\n",
    "i=0\n",
    "for x in age_encoder.categories_:\n",
    "    for a in x:\n",
    "        print(str(i) + \" = \" + str(a))\n",
    "        i = i + 1\n",
    "        \n",
    "i=0\n",
    "for x in ggd_encoder.categories_:\n",
    "    for a in x:\n",
    "        print(str(i) + \" = \" + str(a))\n",
    "        i = i + 1"
   ]
  },
  {
   "cell_type": "code",
   "execution_count": 131,
   "metadata": {},
   "outputs": [],
   "source": [
    "import datetime as dt\n",
    "\n",
    "def Compute_day(x):\n",
    "    date_time_obj = dt.datetime.strptime(x, '%Y-%m-%d')\n",
    "    dtime = dt.datetime.now()\n",
    "    delta = dtime - date_time_obj\n",
    "    return delta.days\n",
    "    \n",
    "covid['Date_statistics'] = covid['Date_statistics'].apply(lambda x: Compute_day(x))"
   ]
  },
  {
   "cell_type": "code",
   "execution_count": 132,
   "metadata": {},
   "outputs": [
    {
     "data": {
      "text/html": [
       "<div>\n",
       "<style scoped>\n",
       "    .dataframe tbody tr th:only-of-type {\n",
       "        vertical-align: middle;\n",
       "    }\n",
       "\n",
       "    .dataframe tbody tr th {\n",
       "        vertical-align: top;\n",
       "    }\n",
       "\n",
       "    .dataframe thead th {\n",
       "        text-align: right;\n",
       "    }\n",
       "</style>\n",
       "<table border=\"1\" class=\"dataframe\">\n",
       "  <thead>\n",
       "    <tr style=\"text-align: right;\">\n",
       "      <th></th>\n",
       "      <th>Date_statistics</th>\n",
       "      <th>Agegroup</th>\n",
       "      <th>Sex</th>\n",
       "      <th>Province</th>\n",
       "      <th>Hospital_admission</th>\n",
       "      <th>Deceased</th>\n",
       "      <th>Municipal_health_service</th>\n",
       "    </tr>\n",
       "  </thead>\n",
       "  <tbody>\n",
       "    <tr>\n",
       "      <th>0</th>\n",
       "      <td>175</td>\n",
       "      <td>4.0</td>\n",
       "      <td>0</td>\n",
       "      <td>7.0</td>\n",
       "      <td>0</td>\n",
       "      <td>0</td>\n",
       "      <td>1.0</td>\n",
       "    </tr>\n",
       "    <tr>\n",
       "      <th>1</th>\n",
       "      <td>156</td>\n",
       "      <td>5.0</td>\n",
       "      <td>0</td>\n",
       "      <td>3.0</td>\n",
       "      <td>0</td>\n",
       "      <td>0</td>\n",
       "      <td>7.0</td>\n",
       "    </tr>\n",
       "    <tr>\n",
       "      <th>2</th>\n",
       "      <td>147</td>\n",
       "      <td>8.0</td>\n",
       "      <td>1</td>\n",
       "      <td>8.0</td>\n",
       "      <td>0</td>\n",
       "      <td>0</td>\n",
       "      <td>18.0</td>\n",
       "    </tr>\n",
       "    <tr>\n",
       "      <th>3</th>\n",
       "      <td>145</td>\n",
       "      <td>9.0</td>\n",
       "      <td>0</td>\n",
       "      <td>7.0</td>\n",
       "      <td>0</td>\n",
       "      <td>0</td>\n",
       "      <td>1.0</td>\n",
       "    </tr>\n",
       "    <tr>\n",
       "      <th>4</th>\n",
       "      <td>145</td>\n",
       "      <td>8.0</td>\n",
       "      <td>1</td>\n",
       "      <td>6.0</td>\n",
       "      <td>1</td>\n",
       "      <td>1</td>\n",
       "      <td>2.0</td>\n",
       "    </tr>\n",
       "  </tbody>\n",
       "</table>\n",
       "</div>"
      ],
      "text/plain": [
       "   Date_statistics  Agegroup  Sex  Province  Hospital_admission  Deceased  \\\n",
       "0              175       4.0    0       7.0                   0         0   \n",
       "1              156       5.0    0       3.0                   0         0   \n",
       "2              147       8.0    1       8.0                   0         0   \n",
       "3              145       9.0    0       7.0                   0         0   \n",
       "4              145       8.0    1       6.0                   1         1   \n",
       "\n",
       "   Municipal_health_service  \n",
       "0                       1.0  \n",
       "1                       7.0  \n",
       "2                      18.0  \n",
       "3                       1.0  \n",
       "4                       2.0  "
      ]
     },
     "execution_count": 132,
     "metadata": {},
     "output_type": "execute_result"
    }
   ],
   "source": [
    "covid.head()"
   ]
  },
  {
   "cell_type": "code",
   "execution_count": 133,
   "metadata": {},
   "outputs": [
    {
     "data": {
      "image/png": "[encoded data removed]",
      "text/plain": [
       "<Figure size 1296x1008 with 9 Axes>"
      ]
     },
     "metadata": {
      "needs_background": "light"
     },
     "output_type": "display_data"
    }
   ],
   "source": [
    "covid.hist(bins=30, figsize=(18,14))\n",
    "plt.show()"
   ]
  },
  {
   "cell_type": "code",
   "execution_count": 134,
   "metadata": {},
   "outputs": [
    {
     "data": {
      "text/plain": [
       "Deceased                    1.000000\n",
       "Agegroup                    0.388249\n",
       "Hospital_admission          0.146560\n",
       "Sex                         0.136272\n",
       "Date_statistics             0.106376\n",
       "Municipal_health_service    0.006788\n",
       "Province                   -0.003574\n",
       "Name: Deceased, dtype: float64"
      ]
     },
     "execution_count": 134,
     "metadata": {},
     "output_type": "execute_result"
    }
   ],
   "source": [
    "corr_matrix = covid.corr()\n",
    "corr_matrix[\"Deceased\"].sort_values(ascending=False)"
   ]
  },
  {
   "cell_type": "code",
   "execution_count": 135,
   "metadata": {},
   "outputs": [],
   "source": [
    "from sklearn.model_selection import train_test_split\n",
    "train, test = train_test_split(covid, test_size=0.2)\n"
   ]
  },
  {
   "cell_type": "code",
   "execution_count": 136,
   "metadata": {},
   "outputs": [
    {
     "name": "stdout",
     "output_type": "stream",
     "text": [
      "(39363, 5)\n",
      "(39363, 1)\n",
      "number of rows = 39363\n",
      "input shape x = (39363, 5)\n",
      "input shape y = (39363, 1)\n",
      "type xs = <class 'numpy.ndarray'>\n",
      "\n",
      "(9841, 5)\n",
      "(9841, 1)\n",
      "number of rows = 9841\n",
      "input shape x = (9841, 5)\n",
      "input shape y = (9841, 1)\n",
      "type xs = <class 'numpy.ndarray'>\n",
      "\n"
     ]
    }
   ],
   "source": [
    "def split_x_y(alldata):\n",
    "    xs = alldata.iloc[:,[0,1,2,4,6]].to_numpy(dtype=float)\n",
    "    ys = alldata.iloc[:,[5]].to_numpy(dtype=float)\n",
    "    print(xs.shape)\n",
    "    print(ys.shape)\n",
    "    m = xs.shape[0]\n",
    "    print(\"number of rows = \" + str(m))\n",
    "    input_shape = xs.shape\n",
    "    print(\"input shape x = \" + str(input_shape))\n",
    "    print(\"input shape y = \" + str(ys.shape))\n",
    "    print(\"type xs = \" + str(type(xs)))\n",
    "    print('')\n",
    "    return xs, ys\n",
    "\n",
    "trainx, trainy = split_x_y(train)\n",
    "testx, testy = split_x_y(test)"
   ]
  },
  {
   "cell_type": "code",
   "execution_count": 137,
   "metadata": {
    "scrolled": true
   },
   "outputs": [
    {
     "name": "stdout",
     "output_type": "stream",
     "text": [
      "Neuraal netwerk\n",
      "Epoch 1/10\n",
      "1231/1231 [==============================] - 2s 2ms/step - loss: 59.2763 - accuracy: 0.3495\n",
      "Epoch 2/10\n",
      "1231/1231 [==============================] - 2s 1ms/step - loss: 0.4006 - accuracy: 0.7587\n",
      "Epoch 3/10\n",
      "1231/1231 [==============================] - 2s 1ms/step - loss: 0.1273 - accuracy: 0.8568\n",
      "Epoch 4/10\n",
      "1231/1231 [==============================] - 2s 1ms/step - loss: 0.1104 - accuracy: 0.8740\n",
      "Epoch 5/10\n",
      "1231/1231 [==============================] - 1s 1ms/step - loss: 0.1081 - accuracy: 0.8756\n",
      "Epoch 6/10\n",
      "1231/1231 [==============================] - 1s 1ms/step - loss: 0.1067 - accuracy: 0.8764\n",
      "Epoch 7/10\n",
      "1231/1231 [==============================] - 1s 1ms/step - loss: 0.1057 - accuracy: 0.8768\n",
      "Epoch 8/10\n",
      "1231/1231 [==============================] - 1s 1ms/step - loss: 0.1048 - accuracy: 0.8770\n",
      "Epoch 9/10\n",
      "1231/1231 [==============================] - 1s 1ms/step - loss: 0.1037 - accuracy: 0.8771\n",
      "Epoch 10/10\n",
      "1231/1231 [==============================] - 2s 2ms/step - loss: 0.1004 - accuracy: 0.8771\n",
      "Model: \"sequential_32\"\n",
      "_________________________________________________________________\n",
      "Layer (type)                 Output Shape              Param #   \n",
      "=================================================================\n",
      "dense_64 (Dense)             (None, 3)                 18        \n",
      "_________________________________________________________________\n",
      "dense_65 (Dense)             (None, 1)                 4         \n",
      "=================================================================\n",
      "Total params: 22\n",
      "Trainable params: 22\n",
      "Non-trainable params: 0\n",
      "_________________________________________________________________\n",
      "308/308 [==============================] - 0s 1ms/step - loss: 0.0973 - accuracy: 0.8744\n"
     ]
    },
    {
     "data": {
      "text/plain": [
       "[0.09731075912714005, 0.8744029998779297]"
      ]
     },
     "execution_count": 137,
     "metadata": {},
     "output_type": "execute_result"
    }
   ],
   "source": [
    "# xs = np.array(['a', 'b', 'c', 'd', 'e', 'f'], dtype=str)\n",
    "# xs = np.array([1,2,3,4,5,6], dtype=float)\n",
    "\n",
    "# xs = np.array([[1,2],[3,4],[3,5],[5,6],[6,7],[8,9]], dtype=float)\n",
    "# ys = np.array([1.0,1.5,2.0,2.5,3.0,3.5], dtype=float)\n",
    "# model.add(keras.layers.Dense(units=2, input_shape=[2], activation='relu'))\n",
    "# model.add(keras.layers.Dense(units=8, input_shape=[2], activation='relu'))\n",
    "mode = 1\n",
    "\n",
    "class StopTraining(tf.keras.callbacks.Callback):\n",
    "  def on_epoch_end(self, epoch, logs={}):\n",
    "    if(logs.get('accuracy')>0.875) and (logs.get('loss')<0.1):\n",
    "      print(\"\\n87,5% accuracy bereikt, dus algorithme stopt met trainen\")\n",
    "      self.model.stop_training = True\n",
    "        \n",
    "if (mode==1):\n",
    "    print(\"Neuraal netwerk\")\n",
    "    model = tf.keras.Sequential()\n",
    "    model.add(keras.layers.Dense(units=3, input_shape=[5], activation=\"relu\"))\n",
    "    model.add(keras.layers.Dense(1, activation=\"linear\"))\n",
    "    model.compile(optimizer='adam', loss='mean_squared_error', metrics=['accuracy'])\n",
    "    model.fit(trainx, trainy, epochs=10, callbacks=[StopTraining()])\n",
    "    model.summary()\n",
    "\n",
    "if (mode==2):\n",
    "    print(\"Lineaire regressie\")\n",
    "\n",
    "model.evaluate(testx, testy)"
   ]
  },
  {
   "cell_type": "code",
   "execution_count": 163,
   "metadata": {},
   "outputs": [
    {
     "name": "stdout",
     "output_type": "stream",
     "text": [
      "[[0.20819755]]\n"
     ]
    }
   ],
   "source": [
    "# i = 2\n",
    "# print(testx[[i]])\n",
    "# print(type(testx[[i]]))\n",
    "# print(model.predict(testx[[i]]))\n",
    "\n",
    "# 96 = 96 dagen geleden tov vandaag\n",
    "# 8 = leeftijd tussen 80-89 jaar\n",
    "# 0 = Man\n",
    "# 1 = Opgenomen in ziekenhuis\n",
    "# 2 = Hart voor Brabant\n",
    "x = np.array([[96.,  8.,  0.,  1., 11.]])\n",
    "\n",
    "print(model.predict(x))\n"
   ]
  }
 ],
 "metadata": {
  "kernelspec": {
   "display_name": "Python 3",
   "language": "python",
   "name": "python3"
  },
  "language_info": {
   "codemirror_mode": {
    "name": "ipython",
    "version": 3
   },
   "file_extension": ".py",
   "mimetype": "text/x-python",
   "name": "python",
   "nbconvert_exporter": "python",
   "pygments_lexer": "ipython3",
   "version": "3.7.6"
  }
 },
 "nbformat": 4,
 "nbformat_minor": 4
}
